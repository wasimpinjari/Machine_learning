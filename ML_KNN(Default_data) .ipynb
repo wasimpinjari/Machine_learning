{
 "cells": [
  {
   "cell_type": "code",
   "execution_count": 1,
   "metadata": {},
   "outputs": [],
   "source": [
    "import pandas as pd\n",
    "import numpy as np\n",
    "import matplotlib.pyplot as plt\n",
    "import seaborn as sns"
   ]
  },
  {
   "cell_type": "code",
   "execution_count": 2,
   "metadata": {},
   "outputs": [],
   "source": [
    "df=pd.read_excel('Default.xlsx')\n",
    "df.drop([\"Unnamed: 0\",\"student\"],axis=1,inplace=True)\n",
    "\n",
    "Dict={\"No\":0,\"Yes\":1}\n",
    "df.default=[Dict[i] for i in df.default]\n",
    "\n",
    "df=df.reset_index()\n",
    "df.drop('index',axis=1,inplace=True)"
   ]
  },
  {
   "cell_type": "code",
   "execution_count": 3,
   "metadata": {},
   "outputs": [
    {
     "name": "stdout",
     "output_type": "stream",
     "text": [
      "enter the value of k:3\n"
     ]
    },
    {
     "name": "stderr",
     "output_type": "stream",
     "text": [
      "/tmp/ipykernel_11835/2731016950.py:7: SettingWithCopyWarning: \n",
      "A value is trying to be set on a copy of a slice from a DataFrame.\n",
      "Try using .loc[row_indexer,col_indexer] = value instead\n",
      "\n",
      "See the caveats in the documentation: http://pandas.pydata.org/pandas-docs/stable/user_guide/indexing.html#returning-a-view-versus-a-copy\n",
      "  train_data[\"Dist\"]=Dist\n"
     ]
    }
   ],
   "source": [
    "def distance1(test_data_balance,test_data_income,k):\n",
    "    train_data=df[0:9899]\n",
    "    Dist=[]\n",
    "    for i in range (len(train_data)):\n",
    "        distance = ((train_data.balance[i]-test_data_balance)**2 + (train_data.income[i]-test_data_income)**2)**0.5\n",
    "        Dist.append(distance)\n",
    "    train_data[\"Dist\"]=Dist\n",
    "    train_data=train_data.sort_values(\"Dist\")\n",
    "    a=train_data[0:k]\n",
    "    a=a.reset_index()\n",
    "    a.drop('index',axis=1,inplace=True)\n",
    "    No=[]\n",
    "    Yes=[] \n",
    "    for i in range(len(a)):\n",
    "        if a.default[i]==0:\n",
    "           No.append(a.default[i]) \n",
    "        else:\n",
    "            Yes.append(a.default[i])\n",
    "    if len(No) > len(Yes):\n",
    "        return 0 #print(\" The pridicted class will be No\",len(No))\n",
    "    else:\n",
    "        return 1 #print(\" The pridicted class will be Yes\",len(yes))\n",
    "    \n",
    "    \n",
    "test_data=df[9900:10000]\n",
    "test_data=test_data.reset_index()\n",
    "test_data.drop('index',axis=1,inplace=True)\n",
    "test_data\n",
    "\n",
    "l1=[]\n",
    "k=int(input(\"enter the value of k:\"))\n",
    "for i in range(len(test_data)):\n",
    "    A=distance1(test_data.balance[i],test_data.income[i],k)\n",
    "    l1.append(A)"
   ]
  },
  {
   "cell_type": "code",
   "execution_count": 4,
   "metadata": {},
   "outputs": [],
   "source": [
    "l1=l1\n",
    "l2=test_data['default']"
   ]
  },
  {
   "cell_type": "code",
   "execution_count": 5,
   "metadata": {},
   "outputs": [
    {
     "name": "stdout",
     "output_type": "stream",
     "text": [
      "Accuarcy_rate = 95.0 %\n"
     ]
    }
   ],
   "source": [
    "count_l1 = 0\n",
    "count_l2 = 0\n",
    "for i in range(len(l1)):\n",
    "    if l1[i] == l2[i]:\n",
    "        count_l1 += 1\n",
    "    else:\n",
    "        count_l2 += 1\n",
    "\n",
    "Accuarcy_rate = (count_l1/len(test_data)) * 100  \n",
    "print('Accuarcy_rate =',Accuarcy_rate,\"%\")"
   ]
  },
  {
   "cell_type": "code",
   "execution_count": 6,
   "metadata": {},
   "outputs": [],
   "source": [
    "predicted_test=np.array(l1)"
   ]
  },
  {
   "cell_type": "code",
   "execution_count": 7,
   "metadata": {},
   "outputs": [],
   "source": [
    "actual_test=test_data.default\n",
    "actual_test=np.array(actual_test)"
   ]
  },
  {
   "cell_type": "code",
   "execution_count": 11,
   "metadata": {},
   "outputs": [
    {
     "name": "stdout",
     "output_type": "stream",
     "text": [
      "[[94  1]\n",
      " [ 4  1]]\n"
     ]
    },
    {
     "data": {
      "text/plain": [
       "<matplotlib.axes._subplots.AxesSubplot at 0x7f2523a7f790>"
      ]
     },
     "execution_count": 11,
     "metadata": {},
     "output_type": "execute_result"
    },
    {
     "data": {
      "image/png": "[encoded data removed]",
      "text/plain": [
       "<Figure size 432x288 with 2 Axes>"
      ]
     },
     "metadata": {
      "needs_background": "light"
     },
     "output_type": "display_data"
    }
   ],
   "source": [
    "from sklearn.metrics import confusion_matrix\n",
    "confusion_matrix = confusion_matrix(actual_test, predicted_test)\n",
    "print(confusion_matrix)\n",
    "sns.heatmap(confusion_matrix/np.sum(confusion_matrix), annot=True, fmt='.2%', cmap='Blues')"
   ]
  }
 ],
 "metadata": {
  "kernelspec": {
   "display_name": "Python 3",
   "language": "python",
   "name": "python3"
  },
  "language_info": {
   "codemirror_mode": {
    "name": "ipython",
    "version": 3
   },
   "file_extension": ".py",
   "mimetype": "text/x-python",
   "name": "python",
   "nbconvert_exporter": "python",
   "pygments_lexer": "ipython3",
   "version": "3.6.5"
  }
 },
 "nbformat": 4,
 "nbformat_minor": 5
}
